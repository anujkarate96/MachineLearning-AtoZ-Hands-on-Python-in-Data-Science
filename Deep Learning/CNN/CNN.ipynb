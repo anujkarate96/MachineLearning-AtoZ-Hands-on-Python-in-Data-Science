{
 "cells": [
  {
   "cell_type": "code",
   "execution_count": 1,
   "metadata": {
    "colab": {
     "base_uri": "https://localhost:8080/",
     "height": 35
    },
    "colab_type": "code",
    "id": "M7e0GN6fw3HN",
    "outputId": "913f09c3-1a89-4db4-dc53-eb97bf91acfe"
   },
   "outputs": [
    {
     "data": {
      "text/plain": [
       "'2.3.0'"
      ]
     },
     "execution_count": 1,
     "metadata": {},
     "output_type": "execute_result"
    }
   ],
   "source": [
    "import tensorflow as tf\n",
    "import numpy as np\n",
    "from keras.preprocessing.image import ImageDataGenerator\n",
    "from keras.preprocessing import image\n",
    "tf.__version__\n"
   ]
  },
  {
   "cell_type": "code",
   "execution_count": 2,
   "metadata": {
    "colab": {},
    "colab_type": "code",
    "id": "xBivlZIe3E9u"
   },
   "outputs": [
    {
     "name": "stdout",
     "output_type": "stream",
     "text": [
      "Found 8000 images belonging to 2 classes.\n",
      "Found 2000 images belonging to 2 classes.\n"
     ]
    }
   ],
   "source": [
    "#preprocessing Train set\n",
    "train_datagen = ImageDataGenerator(\n",
    "        rescale=1./255,\n",
    "        shear_range=0.2,\n",
    "        zoom_range=0.2,\n",
    "        horizontal_flip=True)\n",
    "train_set= train_datagen.flow_from_directory(\n",
    "        'dataset/training_set',\n",
    "        target_size=(128, 128),\n",
    "        batch_size=32,\n",
    "        class_mode='binary')\n",
    "\n",
    "#Prepcrosseing Test set\n",
    "test_datagen = ImageDataGenerator(rescale=1./255)\n",
    "\n",
    "test_set = test_datagen.flow_from_directory(\n",
    "        'dataset/test_set',\n",
    "        target_size=(128, 128),\n",
    "        batch_size=32,\n",
    "        class_mode='binary')"
   ]
  },
  {
   "cell_type": "code",
   "execution_count": 3,
   "metadata": {
    "colab": {},
    "colab_type": "code",
    "id": "BsnHMOiL7CJG"
   },
   "outputs": [],
   "source": [
    "#init CNN model\n",
    "cnn = tf.keras.models.Sequential()\n",
    "#first layer\n",
    "cnn.add(tf.keras.layers.Conv2D(filters = 64, kernel_size=3, activation=\"relu\", input_shape = [128,128,3]))\n",
    "#Pooling\n",
    "cnn.add(tf.keras.layers.MaxPool2D(pool_size=(2,2), strides=2))\n",
    "#second layer\n",
    "cnn.add(tf.keras.layers.Conv2D(filters = 64, kernel_size=3, activation=\"relu\")) \n",
    "#Pooling\n",
    "cnn.add(tf.keras.layers.MaxPool2D(pool_size=(2,2), strides=2))\n",
    "#Flattening\n",
    "cnn.add(tf.keras.layers.Flatten())\n",
    "#full connection\n",
    "cnn.add(tf.keras.layers.Dense(units= 128, activation=\"relu\"))\n",
    "#Final output layer\n",
    "cnn.add(tf.keras.layers.Dense(units= 1, activation=\"sigmoid\"))\n"
   ]
  },
  {
   "cell_type": "code",
   "execution_count": 4,
   "metadata": {
    "colab": {},
    "colab_type": "code",
    "id": "oR63Evdi_ZqX"
   },
   "outputs": [
    {
     "name": "stdout",
     "output_type": "stream",
     "text": [
      "Epoch 1/50\n",
      "250/250 [==============================] - 97s 389ms/step - loss: 0.7182 - accuracy: 0.5776 - val_loss: 0.6509 - val_accuracy: 0.6505\n",
      "Epoch 2/50\n",
      "250/250 [==============================] - 94s 375ms/step - loss: 0.6307 - accuracy: 0.6500 - val_loss: 0.6082 - val_accuracy: 0.6930\n",
      "Epoch 3/50\n",
      "250/250 [==============================] - 94s 377ms/step - loss: 0.5882 - accuracy: 0.6865 - val_loss: 0.5782 - val_accuracy: 0.7130\n",
      "Epoch 4/50\n",
      "250/250 [==============================] - 92s 367ms/step - loss: 0.5507 - accuracy: 0.7185 - val_loss: 0.5662 - val_accuracy: 0.7205\n",
      "Epoch 5/50\n",
      "250/250 [==============================] - 93s 372ms/step - loss: 0.5174 - accuracy: 0.7483 - val_loss: 0.5045 - val_accuracy: 0.7610\n",
      "Epoch 6/50\n",
      "250/250 [==============================] - 95s 382ms/step - loss: 0.4844 - accuracy: 0.7641 - val_loss: 0.4973 - val_accuracy: 0.7685\n",
      "Epoch 7/50\n",
      "250/250 [==============================] - 94s 376ms/step - loss: 0.4528 - accuracy: 0.7839 - val_loss: 0.4882 - val_accuracy: 0.7740\n",
      "Epoch 8/50\n",
      "250/250 [==============================] - 99s 397ms/step - loss: 0.4401 - accuracy: 0.7941 - val_loss: 0.4789 - val_accuracy: 0.7735\n",
      "Epoch 9/50\n",
      "250/250 [==============================] - 94s 375ms/step - loss: 0.4244 - accuracy: 0.8051 - val_loss: 0.4780 - val_accuracy: 0.7725\n",
      "Epoch 10/50\n",
      "250/250 [==============================] - 93s 372ms/step - loss: 0.3959 - accuracy: 0.8219 - val_loss: 0.4934 - val_accuracy: 0.7825\n",
      "Epoch 11/50\n",
      "250/250 [==============================] - 87s 349ms/step - loss: 0.3788 - accuracy: 0.8310 - val_loss: 0.4711 - val_accuracy: 0.7925\n",
      "Epoch 12/50\n",
      "250/250 [==============================] - 88s 352ms/step - loss: 0.3605 - accuracy: 0.8384 - val_loss: 0.4889 - val_accuracy: 0.7900\n",
      "Epoch 13/50\n",
      "250/250 [==============================] - 87s 349ms/step - loss: 0.3386 - accuracy: 0.8457 - val_loss: 0.5099 - val_accuracy: 0.7940\n",
      "Epoch 14/50\n",
      "250/250 [==============================] - 94s 377ms/step - loss: 0.3307 - accuracy: 0.8554 - val_loss: 0.4799 - val_accuracy: 0.7905\n",
      "Epoch 15/50\n",
      "250/250 [==============================] - 97s 388ms/step - loss: 0.3182 - accuracy: 0.8585 - val_loss: 0.4946 - val_accuracy: 0.7940\n",
      "Epoch 16/50\n",
      "250/250 [==============================] - 92s 368ms/step - loss: 0.2932 - accuracy: 0.8756 - val_loss: 0.5086 - val_accuracy: 0.8010\n",
      "Epoch 17/50\n",
      "250/250 [==============================] - 94s 377ms/step - loss: 0.2829 - accuracy: 0.8800 - val_loss: 0.5239 - val_accuracy: 0.7895\n",
      "Epoch 18/50\n",
      "250/250 [==============================] - 100s 401ms/step - loss: 0.2594 - accuracy: 0.8919 - val_loss: 0.5571 - val_accuracy: 0.7900\n",
      "Epoch 19/50\n",
      "250/250 [==============================] - 96s 385ms/step - loss: 0.2608 - accuracy: 0.8892 - val_loss: 0.5255 - val_accuracy: 0.7990\n",
      "Epoch 20/50\n",
      "250/250 [==============================] - 98s 393ms/step - loss: 0.2554 - accuracy: 0.8938 - val_loss: 0.5753 - val_accuracy: 0.7935\n",
      "Epoch 21/50\n",
      "250/250 [==============================] - 96s 384ms/step - loss: 0.2326 - accuracy: 0.9049 - val_loss: 0.5184 - val_accuracy: 0.7915\n",
      "Epoch 22/50\n",
      "250/250 [==============================] - 94s 375ms/step - loss: 0.2302 - accuracy: 0.9045 - val_loss: 0.5762 - val_accuracy: 0.7895\n",
      "Epoch 23/50\n",
      "250/250 [==============================] - 97s 386ms/step - loss: 0.2145 - accuracy: 0.9125 - val_loss: 0.6307 - val_accuracy: 0.7870\n",
      "Epoch 24/50\n",
      "250/250 [==============================] - 95s 379ms/step - loss: 0.2060 - accuracy: 0.9155 - val_loss: 0.5800 - val_accuracy: 0.7850\n",
      "Epoch 25/50\n",
      "250/250 [==============================] - 100s 400ms/step - loss: 0.1857 - accuracy: 0.9237 - val_loss: 0.6186 - val_accuracy: 0.7950\n",
      "Epoch 26/50\n",
      "250/250 [==============================] - 103s 410ms/step - loss: 0.1774 - accuracy: 0.9279 - val_loss: 0.6124 - val_accuracy: 0.7915\n",
      "Epoch 27/50\n",
      "250/250 [==============================] - 98s 392ms/step - loss: 0.1740 - accuracy: 0.9295 - val_loss: 0.6181 - val_accuracy: 0.7885\n",
      "Epoch 28/50\n",
      "250/250 [==============================] - 99s 395ms/step - loss: 0.1755 - accuracy: 0.9291 - val_loss: 0.6267 - val_accuracy: 0.7885\n",
      "Epoch 29/50\n",
      "250/250 [==============================] - 94s 375ms/step - loss: 0.1659 - accuracy: 0.9364 - val_loss: 0.6229 - val_accuracy: 0.7985\n",
      "Epoch 30/50\n",
      "250/250 [==============================] - 103s 413ms/step - loss: 0.1583 - accuracy: 0.9375 - val_loss: 0.6849 - val_accuracy: 0.7810\n",
      "Epoch 31/50\n",
      "250/250 [==============================] - 95s 379ms/step - loss: 0.1415 - accuracy: 0.9457 - val_loss: 0.6452 - val_accuracy: 0.7995\n",
      "Epoch 32/50\n",
      "250/250 [==============================] - 92s 369ms/step - loss: 0.1461 - accuracy: 0.9446 - val_loss: 0.6616 - val_accuracy: 0.8060\n",
      "Epoch 33/50\n",
      "250/250 [==============================] - 93s 373ms/step - loss: 0.1406 - accuracy: 0.9451 - val_loss: 0.7121 - val_accuracy: 0.7975\n",
      "Epoch 34/50\n",
      "250/250 [==============================] - 102s 409ms/step - loss: 0.1333 - accuracy: 0.9494 - val_loss: 0.6773 - val_accuracy: 0.7980\n",
      "Epoch 35/50\n",
      "250/250 [==============================] - 97s 390ms/step - loss: 0.1343 - accuracy: 0.9480 - val_loss: 0.7116 - val_accuracy: 0.7920\n",
      "Epoch 36/50\n",
      "250/250 [==============================] - 94s 377ms/step - loss: 0.1393 - accuracy: 0.9456 - val_loss: 0.6864 - val_accuracy: 0.7865\n",
      "Epoch 37/50\n",
      "250/250 [==============================] - 118s 471ms/step - loss: 0.1277 - accuracy: 0.9513 - val_loss: 0.7572 - val_accuracy: 0.7860\n",
      "Epoch 38/50\n",
      "250/250 [==============================] - 117s 468ms/step - loss: 0.1247 - accuracy: 0.9523 - val_loss: 0.9004 - val_accuracy: 0.7785\n",
      "Epoch 39/50\n",
      "250/250 [==============================] - 100s 399ms/step - loss: 0.1115 - accuracy: 0.9565 - val_loss: 0.9132 - val_accuracy: 0.7775\n",
      "Epoch 40/50\n",
      "250/250 [==============================] - 102s 407ms/step - loss: 0.1067 - accuracy: 0.9588 - val_loss: 0.8435 - val_accuracy: 0.7970\n",
      "Epoch 41/50\n",
      "250/250 [==============================] - 103s 411ms/step - loss: 0.1085 - accuracy: 0.9606 - val_loss: 0.7761 - val_accuracy: 0.8045\n",
      "Epoch 42/50\n",
      "250/250 [==============================] - 101s 405ms/step - loss: 0.0959 - accuracy: 0.9638 - val_loss: 0.8113 - val_accuracy: 0.7815\n",
      "Epoch 43/50\n",
      "250/250 [==============================] - 91s 363ms/step - loss: 0.1063 - accuracy: 0.9606 - val_loss: 0.8298 - val_accuracy: 0.8045\n",
      "Epoch 44/50\n",
      "250/250 [==============================] - 87s 349ms/step - loss: 0.0929 - accuracy: 0.9650 - val_loss: 0.8501 - val_accuracy: 0.7780\n",
      "Epoch 45/50\n",
      "250/250 [==============================] - 87s 348ms/step - loss: 0.0866 - accuracy: 0.9688 - val_loss: 0.8158 - val_accuracy: 0.7930\n",
      "Epoch 46/50\n",
      "250/250 [==============================] - 88s 351ms/step - loss: 0.1026 - accuracy: 0.9615 - val_loss: 0.8239 - val_accuracy: 0.7935\n",
      "Epoch 47/50\n",
      "250/250 [==============================] - 88s 353ms/step - loss: 0.0936 - accuracy: 0.9686 - val_loss: 0.8881 - val_accuracy: 0.8025\n",
      "Epoch 48/50\n",
      "250/250 [==============================] - 94s 378ms/step - loss: 0.0927 - accuracy: 0.9650 - val_loss: 0.8921 - val_accuracy: 0.7905\n",
      "Epoch 49/50\n",
      "250/250 [==============================] - 96s 384ms/step - loss: 0.0862 - accuracy: 0.9681 - val_loss: 0.8312 - val_accuracy: 0.8005\n",
      "Epoch 50/50\n",
      "250/250 [==============================] - 96s 385ms/step - loss: 0.0907 - accuracy: 0.9666 - val_loss: 0.8156 - val_accuracy: 0.7965\n"
     ]
    },
    {
     "data": {
      "text/plain": [
       "<tensorflow.python.keras.callbacks.History at 0x1b84730bf10>"
      ]
     },
     "execution_count": 4,
     "metadata": {},
     "output_type": "execute_result"
    }
   ],
   "source": [
    "#Training CNN\n",
    "cnn.compile(optimizer = 'adam', loss = 'binary_crossentropy', metrics = ['accuracy'])\n",
    "cnn.fit(x = train_set, validation_data = test_set, epochs = 50)"
   ]
  },
  {
   "cell_type": "raw",
   "metadata": {},
   "source": []
  },
  {
   "cell_type": "code",
   "execution_count": 22,
   "metadata": {
    "colab": {},
    "colab_type": "code",
    "id": "plXl23Z1A1hQ"
   },
   "outputs": [],
   "source": [
    "#Making prediction\n",
    "test_image = image.load_img(\"dataset/single_prediction/cat_or_dog_2.jpg\", target_size = (128,128))\n",
    "test_image = image.img_to_array(test_image)\n",
    "test_image = np.expand_dims(test_image, axis = 0)\n",
    "result = cnn.predict(test_image)\n",
    "train_set.class_indices\n",
    "if result[0][0] == 0:\n",
    "    pred = \"cat\" \n",
    "else:\n",
    "    pred = \"dog\"\n",
    "\n"
   ]
  },
  {
   "cell_type": "code",
   "execution_count": 23,
   "metadata": {},
   "outputs": [
    {
     "name": "stdout",
     "output_type": "stream",
     "text": [
      "cat\n"
     ]
    }
   ],
   "source": [
    "print(pred)"
   ]
  },
  {
   "cell_type": "code",
   "execution_count": null,
   "metadata": {},
   "outputs": [],
   "source": []
  },
  {
   "cell_type": "code",
   "execution_count": null,
   "metadata": {},
   "outputs": [],
   "source": []
  },
  {
   "cell_type": "code",
   "execution_count": null,
   "metadata": {},
   "outputs": [],
   "source": []
  }
 ],
 "metadata": {
  "colab": {
   "collapsed_sections": [],
   "name": "CNN.ipynb",
   "provenance": []
  },
  "kernelspec": {
   "display_name": "Python 3",
   "language": "python",
   "name": "python3"
  },
  "language_info": {
   "codemirror_mode": {
    "name": "ipython",
    "version": 3
   },
   "file_extension": ".py",
   "mimetype": "text/x-python",
   "name": "python",
   "nbconvert_exporter": "python",
   "pygments_lexer": "ipython3",
   "version": "3.8.3"
  }
 },
 "nbformat": 4,
 "nbformat_minor": 1
}
